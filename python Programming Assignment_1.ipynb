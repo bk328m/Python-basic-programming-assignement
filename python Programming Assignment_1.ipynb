{
 "cells": [
  {
   "cell_type": "markdown",
   "id": "20e79ab2",
   "metadata": {},
   "source": [
    "# 1. Write a Python program to print \"Hello Python\"?"
   ]
  },
  {
   "cell_type": "code",
   "execution_count": 1,
   "id": "4eb95df6",
   "metadata": {},
   "outputs": [
    {
     "name": "stdout",
     "output_type": "stream",
     "text": [
      "Hello Python\n"
     ]
    }
   ],
   "source": [
    "print(\"Hello Python\")"
   ]
  },
  {
   "cell_type": "markdown",
   "id": "40104b41",
   "metadata": {},
   "source": [
    "# 2. Write a Python program to do arithmetical operations addition and division.?"
   ]
  },
  {
   "cell_type": "code",
   "execution_count": 3,
   "id": "84f1bbc1",
   "metadata": {},
   "outputs": [
    {
     "name": "stdout",
     "output_type": "stream",
     "text": [
      "enter number 1:6\n",
      "enter number 2:8\n",
      "enter operator :+\n",
      "Addition is: 14\n"
     ]
    }
   ],
   "source": [
    "a=int(input(\"enter number 1:\"))\n",
    "b=int(input(\"enter number 2:\"))\n",
    "ops=input(\"enter operator :\")\n",
    "if ops==\"+\": #addition\n",
    "    c=a+b\n",
    "    print(\"Addition is:\",c)\n",
    "elif ops==\"/\": #division\n",
    "    c=a/b\n",
    "    print(\"Division is :\",c)"
   ]
  },
  {
   "cell_type": "code",
   "execution_count": 4,
   "id": "f3c1b705",
   "metadata": {},
   "outputs": [
    {
     "name": "stdout",
     "output_type": "stream",
     "text": [
      "enter number 1:9\n",
      "enter number 2:3\n",
      "enter operator :/\n",
      "Division is : 3.0\n"
     ]
    }
   ],
   "source": [
    "a=int(input(\"enter number 1:\"))\n",
    "b=int(input(\"enter number 2:\"))\n",
    "ops=input(\"enter operator :\")\n",
    "if ops==\"+\": #addition\n",
    "    c=a+b\n",
    "    print(\"Addition is:\",c)\n",
    "elif ops==\"/\": #division\n",
    "    c=a/b\n",
    "    print(\"Division is :\",c)"
   ]
  },
  {
   "cell_type": "markdown",
   "id": "714bde05",
   "metadata": {},
   "source": [
    "# 3. Write a Python program to find the area of a triangle?"
   ]
  },
  {
   "cell_type": "code",
   "execution_count": 1,
   "id": "61d5aec4",
   "metadata": {},
   "outputs": [
    {
     "name": "stdout",
     "output_type": "stream",
     "text": [
      "Enter height of triangle: 6\n",
      "Enter base of triangle: 5\n",
      "Area of traingle is: 15.0\n"
     ]
    }
   ],
   "source": [
    "a = int(input('Enter height of triangle: '))\n",
    "b = int(input('Enter base of triangle: '))\n",
    "c=(a*b)/2\n",
    "print(\"Area of traingle is:\",c)"
   ]
  },
  {
   "cell_type": "markdown",
   "id": "a78b1b56",
   "metadata": {},
   "source": [
    "# 4. Write a Python program to swap two variables?"
   ]
  },
  {
   "cell_type": "code",
   "execution_count": 3,
   "id": "e0c45b72",
   "metadata": {},
   "outputs": [
    {
     "name": "stdout",
     "output_type": "stream",
     "text": [
      "enter number 1:6\n",
      "enter number 2:7\n",
      "value of a & b before swaping is : 6 7\n",
      "value of a & b after swaping is : 7 6\n"
     ]
    }
   ],
   "source": [
    "a=int(input(\"enter number 1:\"))\n",
    "b=int(input(\"enter number 2:\"))\n",
    "print(\"value of a & b before swaping is :\",a,b)\n",
    "swap=a\n",
    "a=b\n",
    "b=swap\n",
    "print(\"value of a & b after swaping is :\",a,b)"
   ]
  },
  {
   "cell_type": "markdown",
   "id": "c5b8ec3c",
   "metadata": {},
   "source": [
    "# 5. Write a Python program to generate a random number?"
   ]
  },
  {
   "cell_type": "code",
   "execution_count": 12,
   "id": "1080a06f",
   "metadata": {},
   "outputs": [
    {
     "name": "stdout",
     "output_type": "stream",
     "text": [
      "Random number is : 4184\n"
     ]
    }
   ],
   "source": [
    "import random\n",
    "a=random.randint(0,10000)\n",
    "print(\"Random number is :\",a)"
   ]
  }
 ],
 "metadata": {
  "kernelspec": {
   "display_name": "Python 3 (ipykernel)",
   "language": "python",
   "name": "python3"
  },
  "language_info": {
   "codemirror_mode": {
    "name": "ipython",
    "version": 3
   },
   "file_extension": ".py",
   "mimetype": "text/x-python",
   "name": "python",
   "nbconvert_exporter": "python",
   "pygments_lexer": "ipython3",
   "version": "3.9.7"
  }
 },
 "nbformat": 4,
 "nbformat_minor": 5
}
